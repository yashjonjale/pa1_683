{
 "cells": [
  {
   "cell_type": "code",
   "execution_count": 6,
   "metadata": {},
   "outputs": [],
   "source": [
    "import re\n",
    "\n",
    "stderr_output = \"\"\"\n",
    " Performance counter stats for './build/naive 2048 32' (20 runs):\n",
    "\n",
    "         11,70,056      L1-dcache-load-misses            #    0.86 of all L1-dcache accesses   ( +-  0.49% )\n",
    "      13,56,62,224      L1-dcache-loads                                                         ( +-  0.24% )\n",
    "\n",
    "          0.085389 +- 0.000899 seconds time elapsed  ( +-  1.05% )\n",
    "\n",
    "\n",
    "\"\"\"\n",
    "\n",
    "load_misses_pattern = r\"L1-dcache-load-misses\\s+([\\d,]+)\"\n",
    "loads_pattern = r\"L1-dcache-loads\\s+([\\d,]+)\"\n",
    "\n",
    "# Find matches for each pattern\n",
    "load_misses_match = re.search(load_misses_pattern, stderr_output)\n",
    "loads_match = re.search(loads_pattern, stderr_output)"
   ]
  },
  {
   "cell_type": "code",
   "execution_count": 2,
   "metadata": {},
   "outputs": [],
   "source": [
    "load_misses_match"
   ]
  },
  {
   "cell_type": "code",
   "execution_count": 3,
   "metadata": {},
   "outputs": [],
   "source": [
    "loads_match "
   ]
  },
  {
   "cell_type": "code",
   "execution_count": 4,
   "metadata": {},
   "outputs": [
    {
     "data": {
      "text/plain": [
       "\"\\n Performance counter stats for './build/naive 2048 32' (20 runs):\\n\\n         11,70,056      L1-dcache-load-misses            #    0.86% of all L1-dcache accesses   ( +-  0.49% )\\n      13,56,62,224      L1-dcache-loads                                                         ( +-  0.24% )\\n\\n          0.085389 +- 0.000899 seconds time elapsed  ( +-  1.05% )\\n\\n\\n\""
      ]
     },
     "execution_count": 4,
     "metadata": {},
     "output_type": "execute_result"
    }
   ],
   "source": [
    "stderr_output   "
   ]
  },
  {
   "cell_type": "code",
   "execution_count": 11,
   "metadata": {},
   "outputs": [],
   "source": [
    "def parse_performance_data(input_string):\n",
    "    # Regex to find the numbers before the labels for L1-dcache-loads and L1-dcache-load-misses\n",
    "    loads_pattern = r'([\\d,]+)\\s+L1-dcache-loads'\n",
    "    misses_pattern = r'([\\d,]+)\\s+L1-dcache-load-misses'\n",
    "    instrc_pattern = r'([\\d,]+)\\s+instructions'\n",
    "    # Search for patterns in the input string\n",
    "    loads_match = re.search(loads_pattern, input_string)\n",
    "    misses_match = re.search(misses_pattern, input_string)\n",
    "    ins_match = re.search(instrc_pattern, input_string)\n",
    "    # Extract numbers, preserving commas\n",
    "    if loads_match and misses_match and ins_match:\n",
    "        loads = loads_match.group(1)\n",
    "        misses = misses_match.group(1)\n",
    "        ins = ins_match.group(1)\n",
    "        return loads, misses, ins\n",
    "    else:\n",
    "        return None, None, None"
   ]
  },
  {
   "cell_type": "code",
   "execution_count": 10,
   "metadata": {},
   "outputs": [
    {
     "data": {
      "text/plain": [
       "'13,56,62,224 11,70,056'"
      ]
     },
     "execution_count": 10,
     "metadata": {},
     "output_type": "execute_result"
    }
   ],
   "source": [
    "parse_performance_data(stderr_output)"
   ]
  },
  {
   "cell_type": "code",
   "execution_count": 15,
   "metadata": {},
   "outputs": [],
   "source": [
    "stderr_output = \"\"\"\n",
    "\n",
    " Performance counter stats for './build/naive 8192 64' (20 runs):\n",
    "\n",
    "       1,94,28,958      L1-dcache-load-misses            #    0.89% of all L1-dcache accesses   ( +-  0.18% )\n",
    "    2,18,97,37,782      L1-dcache-loads                                                         ( +-  0.02% )\n",
    "    7,93,77,85,288      instructions                                                            ( +-  0.02% )\n",
    "\n",
    "            1.6946 +- 0.0166 seconds time elapsed  ( +-  0.98% )\n",
    "\n",
    "\"\"\"\n",
    "\n"
   ]
  },
  {
   "cell_type": "code",
   "execution_count": 16,
   "metadata": {},
   "outputs": [],
   "source": [
    "parsed_output = parse_performance_data(stderr_output)"
   ]
  },
  {
   "cell_type": "code",
   "execution_count": 17,
   "metadata": {},
   "outputs": [],
   "source": [
    "t1 = int(parsed_output[0].replace(',',''))\n",
    "t2 = int(parsed_output[1].replace(',',''))\n",
    "t3 = int(parsed_output[2].replace(',',''))"
   ]
  },
  {
   "cell_type": "code",
   "execution_count": 18,
   "metadata": {},
   "outputs": [
    {
     "data": {
      "text/plain": [
       "(2189737782, 19428958, 7937785288)"
      ]
     },
     "execution_count": 18,
     "metadata": {},
     "output_type": "execute_result"
    }
   ],
   "source": [
    "t1, t2, t3"
   ]
  }
 ],
 "metadata": {
  "kernelspec": {
   "display_name": "Python 3",
   "language": "python",
   "name": "python3"
  },
  "language_info": {
   "codemirror_mode": {
    "name": "ipython",
    "version": 3
   },
   "file_extension": ".py",
   "mimetype": "text/x-python",
   "name": "python",
   "nbconvert_exporter": "python",
   "pygments_lexer": "ipython3",
   "version": "3.10.12"
  }
 },
 "nbformat": 4,
 "nbformat_minor": 2
}
